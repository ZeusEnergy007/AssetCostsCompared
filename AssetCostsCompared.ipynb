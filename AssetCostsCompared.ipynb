{
 "cells": [
  {
   "cell_type": "markdown",
   "metadata": {},
   "source": [
    "Project Introduction: "
   ]
  },
  {
   "cell_type": "code",
   "execution_count": null,
   "metadata": {},
   "outputs": [],
   "source": [
    "import pandas as pd\n",
    "import matplotlib.pyplot as plt  # For plotting graphs\n",
    "import requests  # For making API requests\n",
    "\n",
    "\n",
    "# Create a list of years from 2014 to 2024\n",
    "years = list(range(2014, 2025))\n",
    "\n",
    "# Initialize the dataframe with additional column for Bitcoin value\n",
    "asset_costs_df = pd.DataFrame({\n",
    "    'Year': years,\n",
    "    'Median_Home_Value_USD': [None] * len(years),\n",
    "    'Median_Income_USD': [None] * len(years),\n",
    "    'Cost_of_Living_Index': [None] * len(years),\n",
    "    'Bitcoin_Value_USD': [None] * len(years),  # Add Bitcoin column\n",
    "    'Home_Price_in_Bitcoin': [None] * len(years)  # Calculate later\n",
    "})\n",
    "\n",
    "# Display the updated dataframe\n",
    "print(asset_costs_df)"
   ]
  }
 ],
 "metadata": {
  "kernelspec": {
   "display_name": "venv",
   "language": "python",
   "name": "python3"
  },
  "language_info": {
   "codemirror_mode": {
    "name": "ipython",
    "version": 3
   },
   "file_extension": ".py",
   "mimetype": "text/x-python",
   "name": "python",
   "nbconvert_exporter": "python",
   "pygments_lexer": "ipython3",
   "version": "3.12.5"
  }
 },
 "nbformat": 4,
 "nbformat_minor": 2
}
